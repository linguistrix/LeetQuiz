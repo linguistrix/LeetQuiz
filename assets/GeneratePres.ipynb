{
 "cells": [
  {
   "cell_type": "code",
   "execution_count": 80,
   "id": "ee763dd3-ec26-4474-b187-49ea7109afe9",
   "metadata": {},
   "outputs": [],
   "source": [
    "from pptx import Presentation\n",
    "import pandas as pd"
   ]
  },
  {
   "cell_type": "code",
   "execution_count": 79,
   "id": "3012b06f-982a-42b5-85b9-cdb948a156e4",
   "metadata": {},
   "outputs": [],
   "source": [
    "prs = Presentation('BAQC-Quiz-Final.pptx')\n",
    "df = pd.read_excel('BAQC Quiz.xlsx')\n",
    " "
   ]
  },
  {
   "cell_type": "code",
   "execution_count": 81,
   "id": "676fef12-c108-4e80-801c-1b1247a2546a",
   "metadata": {},
   "outputs": [],
   "source": [
    "def fill_text(slide, text):\n",
    "    for shape in slide.shapes:\n",
    "        if not shape.has_text_frame:\n",
    "            continue\n",
    "        for paragraph in shape.text_frame.paragraphs:\n",
    "            for run in paragraph.runs:\n",
    "                run.text = text"
   ]
  },
  {
   "cell_type": "code",
   "execution_count": 82,
   "id": "7c1d3b7a-fe93-43c5-96d3-2b8d8c0f2c54",
   "metadata": {},
   "outputs": [],
   "source": [
    "for i in range(0, 57):\n",
    "    question_slide = prs.slides[i*2]\n",
    "    answer_slide = prs.slides[i*2+1]\n",
    "    line = qns[i+1]\n",
    "    \n",
    "    question = df.to_dict()['Question'][i]\n",
    "    answer = df.to_dict()['Answer'][i]\n",
    "    fill_text(question_slide, question)\n",
    "    fill_text(answer_slide, answer) \n"
   ]
  },
  {
   "cell_type": "code",
   "execution_count": 83,
   "id": "bfbe6c80-0863-4d15-88e2-ec12657226c8",
   "metadata": {},
   "outputs": [],
   "source": [
    "prs.save('Updated.pptx')"
   ]
  },
  {
   "cell_type": "code",
   "execution_count": 78,
   "id": "b0b26597-5309-43c3-aca2-47d3d4aa8727",
   "metadata": {},
   "outputs": [
    {
     "name": "stdout",
     "output_type": "stream",
     "text": [
      "Peter Higgs, The Discovery of the Higgs Boson\n"
     ]
    }
   ],
   "source": [
    "\n",
    "print(df.to_dict()['Answer'][4])"
   ]
  },
  {
   "cell_type": "code",
   "execution_count": 67,
   "id": "56c6fdde-7601-47f6-923b-2f2aa4118bd6",
   "metadata": {},
   "outputs": [
    {
     "data": {
      "text/plain": [
       "RangeIndex(start=0, stop=57, step=1)"
      ]
     },
     "execution_count": 67,
     "metadata": {},
     "output_type": "execute_result"
    }
   ],
   "source": [
    "df.index"
   ]
  },
  {
   "cell_type": "code",
   "execution_count": null,
   "id": "906fa70c-ec1d-477b-8cea-8e4acc70c6cd",
   "metadata": {},
   "outputs": [],
   "source": []
  }
 ],
 "metadata": {
  "kernelspec": {
   "display_name": "Python 3 (ipykernel)",
   "language": "python",
   "name": "python3"
  },
  "language_info": {
   "codemirror_mode": {
    "name": "ipython",
    "version": 3
   },
   "file_extension": ".py",
   "mimetype": "text/x-python",
   "name": "python",
   "nbconvert_exporter": "python",
   "pygments_lexer": "ipython3",
   "version": "3.10.12"
  }
 },
 "nbformat": 4,
 "nbformat_minor": 5
}
